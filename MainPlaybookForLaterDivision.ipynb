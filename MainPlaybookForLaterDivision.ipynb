{
 "cells": [
  {
   "cell_type": "markdown",
   "metadata": {},
   "source": [
    "## Blue Book"
   ]
  },
  {
   "cell_type": "markdown",
   "metadata": {},
   "source": [
    "### Hardware Security"
   ]
  },
  {
   "cell_type": "markdown",
   "metadata": {},
   "source": [
    "BIOS Security Boot Password - best practice is to set a BIOS password that will prevent anyone from booting the computer. Attackers won't be able to boot from a usb. If they could put in a USB, then they could mount your file system onto the usb without even knowing your OS login info. \n",
    "\n",
    "This can be hacked by removing the battery on the mother board, then reinstalling. The BIOS will go back to a factory default (no password).  "
   ]
  },
  {
   "cell_type": "markdown",
   "metadata": {},
   "source": [
    "Lock the cases of computers to prevent physical access"
   ]
  },
  {
   "cell_type": "markdown",
   "metadata": {},
   "source": [
    "Lockdown the boot order in the BIOS"
   ]
  },
  {
   "cell_type": "markdown",
   "metadata": {},
   "source": [
    "Drive encryption (Windows BootLocker, TLM or Trusted Platform Module) "
   ]
  },
  {
   "cell_type": "markdown",
   "metadata": {},
   "source": [
    "Disable the ability to shutdown the computer from the login screen. This prevents an attacker from being able to access the bios without logging in. "
   ]
  },
  {
   "cell_type": "markdown",
   "metadata": {},
   "source": [
    "### OS Host Machine Hygiene and Blue Forensic Plays"
   ]
  },
  {
   "cell_type": "markdown",
   "metadata": {},
   "source": [
    "Lots of malicious software will configure itself to run automatically at start up. This batch script is designed to show applications that will run automatically when the user starts there windows machine. The output is written to a file in %userprofile$\\Documents.  "
   ]
  },
  {
   "cell_type": "code",
   "execution_count": null,
   "metadata": {
    "collapsed": true
   },
   "outputs": [],
   "source": [
    "SET filepath=%userprofile%\\Documents\\startup_programs_%username%_%DATE:~10,4%_%DATE:~4,2%_%DATE:~7,2%_%TIME:~0,2%_%TIME:~3,2%_%TIME:~6,2%.txt\n",
    "\n",
    "CALL get_startup_progs\n",
    "\n",
    "EXIT /b 0\n",
    "\n",
    ":get_startup_progs\n",
    "echo --- Start Up Programs --- >> %filepath%\n",
    "echo Current User >> %filepath%\n",
    "echo. >> %filepath%\n",
    "dir C:\\Users\\globa\\AppData\\Roaming >> %filepath%\n",
    "echo. >> %filepath%\n",
    "echo. >> %filepath%\n",
    "echo All Users >> %filepath%\n",
    "echo. >> %filepath%\n",
    "dir C:\\ProgramData\\Microsoft\\Windows\\Start Menu\\Programs\\Startup >> %filepath%\n",
    "echo. >> %filepath%\n",
    "echo. >> %filepath%\n",
    "echo. >> %filepath%\n",
    "EXIT /b 0"
   ]
  },
  {
   "cell_type": "raw",
   "metadata": {},
   "source": [
    "Other malicious software may be configured to autorun through the registry. Use these command lines in Windows Command Prompt to view portions of the registry that hold autorun settings (Note: you may need to right click on Command Prompt in the Start Menu and choose \"run as Administrator\" in order to access these portions of the registry) "
   ]
  },
  {
   "cell_type": "code",
   "execution_count": null,
   "metadata": {
    "collapsed": true
   },
   "outputs": [],
   "source": [
    "reg query HKLM\\Software\\Microsoft\\Windows\\CurrentVersion\\Runonce\n",
    "\n",
    "reg query HKLM\\Software\\Microsoft\\Windows\\CurrentVersion\\Run\n",
    "\n",
    "reg query HKCU\\Software\\Microsoft\\Windows NT\\CurrentVersion\\Windows\\Run\n",
    "\n",
    "reg query HKCU\\Software\\Microsoft\\Windows\\CurrentVersion\\Run \n",
    "\n",
    "reg query HKCU\\Software\\Microsoft\\Windows\\CurrentVersion\\RunOnce"
   ]
  },
  {
   "cell_type": "markdown",
   "metadata": {},
   "source": [
    "If someone was in the computer, what did they do? Check the most recently used (MRU) commands portion of the registry (Windows OS): "
   ]
  },
  {
   "cell_type": "code",
   "execution_count": null,
   "metadata": {
    "collapsed": true
   },
   "outputs": [],
   "source": [
    "reg query HKCU\\SOftware\\Microsoft\\WIndows\\CurrentVersion\\Explorer\\RunMRU"
   ]
  },
  {
   "cell_type": "markdown",
   "metadata": {},
   "source": [
    "Windows 10 has MRU logging off by default. This doesn't help forensics in the aftermath of a break-in. SysAdmin can enable MRU logging as a group policy, or it can be enabled on an individuals computer. \n",
    "\n",
    "To toggle MRU on from the Start Menu choose Settings-> Personalization-> Show most used apps \n",
    "\n",
    "[Here is a good link](https://www.askvg.com/bug-fix-run-mru-history-list-is-always-empty-in-windows-10/) to show how MRU can be toggled on/off several different ways."
   ]
  },
  {
   "cell_type": "markdown",
   "metadata": {},
   "source": [
    "### Software Security"
   ]
  },
  {
   "cell_type": "markdown",
   "metadata": {},
   "source": [
    "Check the MD5 or SHA (SHA256 is prefferred) of each program you download to verify authenticity. This isn't always possible, because not all developers make these hashes available, but take advantage of them when they're available. \n",
    "\n",
    "In bash:"
   ]
  },
  {
   "cell_type": "code",
   "execution_count": null,
   "metadata": {
    "collapsed": true
   },
   "outputs": [],
   "source": [
    "MD5sum [filepath]\n",
    "SHA256sum"
   ]
  },
  {
   "cell_type": "markdown",
   "metadata": {},
   "source": [
    "In Windows Command Prompt:"
   ]
  },
  {
   "cell_type": "code",
   "execution_count": null,
   "metadata": {
    "collapsed": true
   },
   "outputs": [],
   "source": [
    "CertUtil -hashfile [filepath] [algorithm (i.e. MD5, SHA256, etc.)]"
   ]
  },
  {
   "cell_type": "markdown",
   "metadata": {},
   "source": [
    "Alternatively, [Sandoxie](https://www.sandboxie.com/) is a program that can be used to open programs from unknown developers. Sandboxie isolates the program from the operating system until it can be verified as safe, preventing the program from making configurations, settings changes and installations if it's malicious."
   ]
  },
  {
   "cell_type": "markdown",
   "metadata": {},
   "source": [
    "### Proper Tradecraft for Safe, Anonymous Web Browsing"
   ]
  },
  {
   "cell_type": "markdown",
   "metadata": {},
   "source": [
    "If it's free, then you're the product.\n",
    "    - Savvy hackers everywhere\n",
    "\n",
    "Don't transmit your credit card information, or log onto financial websites using public wifi unless you're using a VPN service. [NordVPN](https://nordvpn.com/)is an affordable VPN service that encrypts your traffic over public networks and promises not to keep logs. \n",
    "\n",
    "Cookies aren't the kind your mother used to bake. Cookies are used to track, analyze and profit from your private data. Web browsers don't recommend disabling cookies because, unfortunately, they are also useful to certain well meaning websites, companies, and webextenstions. One way around this is by disabling cookies, but allowing them for certain trusted sites by creating an exceptions list. This can be done easily in Chrome. Web extensions, like [Ghostery](www.ghostery.com) will help you catch sites as they try to track you and shut them down, although you should only trust chrome extensions so far. \n",
    "\n",
    "Separate your main supply of cash from the internet. You can do this by getting a cash card and purchasing gift cards from places that you are a return shopper, like Amazon, REI, etc. If you want to really distance yourself, you could use a cash card to purchase bitcoin, then purchase the gift cards using the bitcoin. These techniques don't just separate your main pots of gold from the web, if you handle the purchase correctly they have the added benefit of not being attributed to your name.   \n",
    "\n",
    "Anonymous web browsing is a real hassle when it comes to social media and day-to-day browsing. In fact, onion routers, like [Tor](torproject.org) ruin the experience and are not necessary for a lot of what we do on the internet. The delay and poor search engine optimization that comes with Tor and using anonymous web browsers, like [DuckDuckGo] mean it's not realistic to expect that you will honor good tradecraft on your computer at all times.  So use a different machine! \n",
    "\n",
    "Bifurcate your browsing: use a different computer for financial transactions like online banking and online shopping than you do for your social networking, reading the news, and other activities where you do not, necessarily mind being tracked. Create separate email accounts, usernames and passwords for the sites that you'll go to on this computer and use a burner phone for two-factor authentication. You get added style points if you where a disguise when you go to purchase the burner phone ;) You can also use the secure machine to research and read about topics that you don't want others to see, and you can install software, like [keybase](keybase.io), that will give you encrypted communications. \n",
    " "
   ]
  }
 ],
 "metadata": {
  "kernelspec": {
   "display_name": "Python 3",
   "language": "python",
   "name": "python3"
  },
  "language_info": {
   "codemirror_mode": {
    "name": "ipython",
    "version": 3
   },
   "file_extension": ".py",
   "mimetype": "text/x-python",
   "name": "python",
   "nbconvert_exporter": "python",
   "pygments_lexer": "ipython3",
   "version": "3.6.3"
  }
 },
 "nbformat": 4,
 "nbformat_minor": 2
}
